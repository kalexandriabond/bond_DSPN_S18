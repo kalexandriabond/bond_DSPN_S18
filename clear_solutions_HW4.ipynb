{
 "cells": [
  {
   "cell_type": "markdown",
   "metadata": {},
   "source": [
    "A"
   ]
  },
  {
   "cell_type": "markdown",
   "metadata": {},
   "source": [
    "(i) $$ MSE(b_0, b_1)=E[(Y-(b_0+b_1X))^2] \\\\\n",
    "=E[(Y-(b_0+b_1X))(Y-(b_0+b_1X))] \\\\\n",
    "=E[Y^2]-2b_0E[Y]-2b_1E[XY]+E[(b_0+b_1X)^2] \\\\\n",
    "=E[Y^2]-2b_0E[Y]-2b_1(Cov[XY]+E[X]E[Y])+E[(b_0+b_1X)(b_0+b_1X)]\\\\\n",
    "=E[Y^2]-2b_0E[Y]-2b_1(Cov[XY]+E[X]E[Y])+b_0^2+2b_1E[X]+b_1^2E[X^2]$$\n",
    "\n"
   ]
  },
  {
   "cell_type": "markdown",
   "metadata": {},
   "source": [
    "(ii) $$   MSE(b_0, b_1)=E[Y^2]-2b_0E[Y]-2b_1Cov[X,Y]-2b_1E[X]E[Y]+b_0^2 \\\\\n",
    "                    +2b_0b_1E[X]+b_1^2Var[X]+b_1^2(E[X])^2$$"
   ]
  },
  {
   "cell_type": "markdown",
   "metadata": {},
   "source": [
    "B"
   ]
  },
  {
   "cell_type": "markdown",
   "metadata": {},
   "source": [
    " $$ \\frac{\\delta E[(Y-(b_0+b_1X))^2]}{\\delta b_0}=-2E[Y]+2b_0+2b_1E[X]\\\\\n",
    "       0=-2E[Y]+2b_0+2b_1E[X]\\\\\n",
    "       -2b_0=-2E[Y]+2b_1E[X] \\\\\n",
    "         b_0=E[Y]-b_1E[X] $$"
   ]
  },
  {
   "cell_type": "markdown",
   "metadata": {},
   "source": [
    "C"
   ]
  },
  {
   "cell_type": "markdown",
   "metadata": {},
   "source": [
    "$$ \\frac{\\delta E[(Y-(b_0+b_1X))^2]}{\\delta b_1}=-2Cov[X,Y]-2E[X]E[Y]+2b_0E[X]+2b_1Var[X]+2b_1(E[X])^2\\\\                                          0=-2Cov[X,Y]-2E[X]E[Y]+2b_0E[X]+2b_1Var[X]+2b_1(E[X])^2\\\\\n",
    "-2b_1Var[X]-2b_1(E[X])^2=-2Cov[X,Y]-2E[X]E[Y]+2b_0E[X]\\\\\n",
    "-2b_1Var[X]-2b_1(E[X])^2=-2Cov[X,Y]-2E[X]E[Y]+2(E[Y]-b1E[X])E[X] \\\\ \n",
    "-2b_1Var[X]-2b_1(E[X])^2=-2Cov[X,Y]-2E[X]E[Y]+2E[Y]E[X]-2b1E[X]^2\\\\\n",
    "-2b_1Var[X]-2b_1(E[X])^2=-2Cov[X,Y]-2b1E[X]^2\\\\\n",
    "-2b_1Var[X]=-2Cov[X,Y]\\\\\n",
    " b_1=Cov[X,Y]/Var[X] $$\n"
   ]
  },
  {
   "cell_type": "markdown",
   "metadata": {},
   "source": [
    "(b) Predict the salary of a female with IQ of 110 and a GPA of 4.0.\n",
    "\n",
    "$$y=50+20*GPA+0.07*IQ+35*Gender+0.01*GPA*IQ-10*GPA*Gender\\\\\n",
    " =50+20*4+0.07*110+35+0.01*4*110-10*4\\\\\n",
    " =50+80+7.7+35+4.4-40\\\\\n",
    " =137.1 $$"
   ]
  }
 ],
 "metadata": {
  "kernelspec": {
   "display_name": "R",
   "language": "R",
   "name": "ir"
  },
  "language_info": {
   "codemirror_mode": "r",
   "file_extension": ".r",
   "mimetype": "text/x-r-source",
   "name": "R",
   "pygments_lexer": "r",
   "version": "3.4.3"
  }
 },
 "nbformat": 4,
 "nbformat_minor": 2
}
